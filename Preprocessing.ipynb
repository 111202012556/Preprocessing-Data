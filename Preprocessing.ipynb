{
  "cells": [
    {
      "cell_type": "code",
      "source": [
        "import numpy as np\n",
        "import matplotlib.pyplot as plt\n",
        "import pandas as pd\n"
      ],
      "metadata": {
        "id": "0FNFc47F5M9M"
      },
      "execution_count": null,
      "outputs": []
    },
    {
      "cell_type": "code",
      "source": [
        "dataset = pd.read_csv('Data.csv')\n",
        "x = dataset.iloc[:, :-1].values\n",
        "y = dataset.iloc[:, -1].values"
      ],
      "metadata": {
        "id": "HYCbYfZv8Q3t"
      },
      "execution_count": null,
      "outputs": []
    },
    {
      "cell_type": "code",
      "source": [
        "print(x)"
      ],
      "metadata": {
        "colab": {
          "base_uri": "https://localhost:8080/"
        },
        "id": "x7j9RS-J_UKJ",
        "outputId": "a594dcfa-93c2-43ac-803b-03b377c52091"
      },
      "execution_count": null,
      "outputs": [
        {
          "output_type": "stream",
          "name": "stdout",
          "text": [
            "[['Japan' 34.0 56000.0]\n",
            " ['Singapure' 37.0 38000.0]\n",
            " ['China' 20.0 23000.0]\n",
            " ['Japan' 33.0 65000.0]\n",
            " ['Singapure' 18.0 nan]\n",
            " ['China' 28.0 48000.0]\n",
            " ['Singapure' nan 43000.0]\n",
            " ['Japan' 42.0 74000.0]\n",
            " ['China' 40.0 89000.0]\n",
            " ['Japan' 35.0 56000.0]]\n"
          ]
        }
      ]
    },
    {
      "cell_type": "code",
      "source": [
        "print(y)"
      ],
      "metadata": {
        "colab": {
          "base_uri": "https://localhost:8080/"
        },
        "id": "6Cbz-Ar4OeIu",
        "outputId": "f3725df8-c9ef-438e-893f-cdd8bdecf3d3"
      },
      "execution_count": null,
      "outputs": [
        {
          "output_type": "stream",
          "name": "stdout",
          "text": [
            "['No' 'Yes' 'No' 'No' 'Yes' 'Yes' 'No' 'Yes' 'No' 'Yes']\n"
          ]
        }
      ]
    },
    {
      "cell_type": "code",
      "source": [
        "from sklearn.impute import SimpleImputer\n",
        "imputer = SimpleImputer(missing_values=np.nan, strategy=\"mean\")\n",
        "imputer.fit(x[:, 1:3])\n",
        "x[:, 1:3] = imputer.transform(x[:, 1:3])"
      ],
      "metadata": {
        "id": "aVH1zcQVOkDi"
      },
      "execution_count": null,
      "outputs": []
    },
    {
      "cell_type": "code",
      "source": [
        "print(x)"
      ],
      "metadata": {
        "colab": {
          "base_uri": "https://localhost:8080/"
        },
        "id": "SzS8v3H6Ooq9",
        "outputId": "b9e9b26b-0973-4969-9282-945e39ced043"
      },
      "execution_count": null,
      "outputs": [
        {
          "output_type": "stream",
          "name": "stdout",
          "text": [
            "[['Japan' 34.0 56000.0]\n",
            " ['Singapure' 37.0 38000.0]\n",
            " ['China' 20.0 23000.0]\n",
            " ['Japan' 33.0 65000.0]\n",
            " ['Singapure' 18.0 54666.666666666664]\n",
            " ['China' 28.0 48000.0]\n",
            " ['Singapure' 31.88888888888889 43000.0]\n",
            " ['Japan' 42.0 74000.0]\n",
            " ['China' 40.0 89000.0]\n",
            " ['Japan' 35.0 56000.0]]\n"
          ]
        }
      ]
    },
    {
      "cell_type": "code",
      "source": [
        "from sklearn.compose import ColumnTransformer\n",
        "from sklearn.preprocessing import OneHotEncoder\n",
        "ct = ColumnTransformer(transformers=[('encoder', OneHotEncoder(), [0])], remainder='passthrough')\n",
        "x = np.array(ct.fit_transform(x))"
      ],
      "metadata": {
        "id": "mCEnz0FqOrlz"
      },
      "execution_count": null,
      "outputs": []
    },
    {
      "cell_type": "code",
      "source": [
        "print(x)"
      ],
      "metadata": {
        "id": "YLv5G7M_QAmh",
        "colab": {
          "base_uri": "https://localhost:8080/"
        },
        "outputId": "ce26f37c-53a0-4c75-fd19-7c2e09b48ef7"
      },
      "execution_count": null,
      "outputs": [
        {
          "output_type": "stream",
          "name": "stdout",
          "text": [
            "[[0.0 1.0 0.0 34.0 56000.0]\n",
            " [0.0 0.0 1.0 37.0 38000.0]\n",
            " [1.0 0.0 0.0 20.0 23000.0]\n",
            " [0.0 1.0 0.0 33.0 65000.0]\n",
            " [0.0 0.0 1.0 18.0 54666.666666666664]\n",
            " [1.0 0.0 0.0 28.0 48000.0]\n",
            " [0.0 0.0 1.0 31.88888888888889 43000.0]\n",
            " [0.0 1.0 0.0 42.0 74000.0]\n",
            " [1.0 0.0 0.0 40.0 89000.0]\n",
            " [0.0 1.0 0.0 35.0 56000.0]]\n"
          ]
        }
      ]
    },
    {
      "cell_type": "code",
      "source": [
        "from sklearn.preprocessing import LabelEncoder\n",
        "LabelEncoder\n",
        "le = LabelEncoder()\n",
        "y = le.fit_transform(y)"
      ],
      "metadata": {
        "id": "v88TVukhd8Dm"
      },
      "execution_count": null,
      "outputs": []
    },
    {
      "cell_type": "code",
      "source": [
        "print(y)"
      ],
      "metadata": {
        "id": "ASubLcaXeZMP"
      },
      "execution_count": null,
      "outputs": []
    },
    {
      "cell_type": "code",
      "source": [
        "from sklearn.model_selection import train_test_split\n",
        "x_train, x_test, y_train, y_test = train_test_split(x, y, test_size =0.2, random_state = 1)"
      ],
      "metadata": {
        "id": "QWMEdyUMejWS"
      },
      "execution_count": null,
      "outputs": []
    },
    {
      "cell_type": "code",
      "source": [
        "print(x_train)"
      ],
      "metadata": {
        "colab": {
          "base_uri": "https://localhost:8080/"
        },
        "id": "weRhP2wVfv1x",
        "outputId": "3d2f0e8a-8172-494d-871c-4ad16589478c"
      },
      "execution_count": 46,
      "outputs": [
        {
          "output_type": "stream",
          "name": "stdout",
          "text": [
            "[[0.0 0.0 1.0 -0.15551452283718187 -0.9765897329107728]\n",
            " [0.0 0.0 1.0 -2.124052786598973 -0.2395408778837744]\n",
            " [0.0 1.0 0.0 0.1437032932546103 -0.1553067230235458]\n",
            " [0.0 1.0 0.0 0.001968538263761343 0.4132738222829959]\n",
            " [0.0 0.0 1.0 0.5689075582271571 -1.2924678136366294]\n",
            " [0.0 1.0 0.0 1.2775813331814019 0.9818543675895377]\n",
            " [1.0 0.0 0.0 0.994111823199704 1.9294886097671073]\n",
            " [1.0 0.0 0.0 -0.7067052366904835 -0.6607116521849162]]\n"
          ]
        }
      ]
    },
    {
      "cell_type": "code",
      "source": [
        "print(x_test)"
      ],
      "metadata": {
        "colab": {
          "base_uri": "https://localhost:8080/"
        },
        "id": "B5LCvNoPf31X",
        "outputId": "97edee77-1934-4ee0-cc9c-f639b296747d"
      },
      "execution_count": null,
      "outputs": [
        {
          "output_type": "stream",
          "name": "stdout",
          "text": [
            "[[1.0 0.0 0.0 20.0 23000.0]\n",
            " [0.0 1.0 0.0 35.0 56000.0]]\n"
          ]
        }
      ]
    },
    {
      "cell_type": "code",
      "source": [
        "print(y_train)"
      ],
      "metadata": {
        "colab": {
          "base_uri": "https://localhost:8080/"
        },
        "id": "h3uMM1b0f9XT",
        "outputId": "0db95a0d-f280-45ce-e674-ec65a69249b8"
      },
      "execution_count": null,
      "outputs": [
        {
          "output_type": "stream",
          "name": "stdout",
          "text": [
            "[0 1 0 0 1 1 0 1]\n"
          ]
        }
      ]
    },
    {
      "cell_type": "code",
      "source": [
        "print(y_test)"
      ],
      "metadata": {
        "colab": {
          "base_uri": "https://localhost:8080/"
        },
        "id": "f9TSOFVSgDP4",
        "outputId": "1d0f8586-218f-44b9-fad9-ee4f447ecbd6"
      },
      "execution_count": null,
      "outputs": [
        {
          "output_type": "stream",
          "name": "stdout",
          "text": [
            "[0 1]\n"
          ]
        }
      ]
    },
    {
      "cell_type": "code",
      "source": [
        "from sklearn.preprocessing import StandardScaler\n",
        "sc = StandardScaler()\n",
        "x_train[:, 3:] = sc.fit_transform(x_train[:, 3:])\n",
        "x_test[:, 3:] = sc.transform(x_test[:, 3:])"
      ],
      "metadata": {
        "id": "gvylkpOzgIbx"
      },
      "execution_count": 45,
      "outputs": []
    },
    {
      "cell_type": "code",
      "source": [
        "print(x_train)"
      ],
      "metadata": {
        "colab": {
          "base_uri": "https://localhost:8080/"
        },
        "id": "XHlQwOT01Oj-",
        "outputId": "8327ca1f-a8a3-4c4a-f5ec-e83e0af09125"
      },
      "execution_count": 47,
      "outputs": [
        {
          "output_type": "stream",
          "name": "stdout",
          "text": [
            "[[0.0 0.0 1.0 -0.15551452283718187 -0.9765897329107728]\n",
            " [0.0 0.0 1.0 -2.124052786598973 -0.2395408778837744]\n",
            " [0.0 1.0 0.0 0.1437032932546103 -0.1553067230235458]\n",
            " [0.0 1.0 0.0 0.001968538263761343 0.4132738222829959]\n",
            " [0.0 0.0 1.0 0.5689075582271571 -1.2924678136366294]\n",
            " [0.0 1.0 0.0 1.2775813331814019 0.9818543675895377]\n",
            " [1.0 0.0 0.0 0.994111823199704 1.9294886097671073]\n",
            " [1.0 0.0 0.0 -0.7067052366904835 -0.6607116521849162]]\n"
          ]
        }
      ]
    },
    {
      "cell_type": "code",
      "source": [
        "print(x_test)"
      ],
      "metadata": {
        "colab": {
          "base_uri": "https://localhost:8080/"
        },
        "id": "bsc_uElJ1VYn",
        "outputId": "a21b52dd-4d88-46df-c2e1-907e09cffb86"
      },
      "execution_count": 48,
      "outputs": [
        {
          "output_type": "stream",
          "name": "stdout",
          "text": [
            "[[1.0 0.0 0.0 -1.840583276617275 -2.240102055814199]\n",
            " [0.0 1.0 0.0 0.28543804824545926 -0.1553067230235458]]\n"
          ]
        }
      ]
    }
  ],
  "metadata": {
    "colab": {
      "provenance": []
    },
    "kernelspec": {
      "display_name": "Python 3",
      "name": "python3"
    }
  },
  "nbformat": 4,
  "nbformat_minor": 0
}